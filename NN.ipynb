{
 "cells": [
  {
   "cell_type": "markdown",
   "id": "cb7cf425-2850-40a6-98f0-d36d97299f94",
   "metadata": {},
   "source": [
    "### Import needed libraries(packages)"
   ]
  },
  {
   "cell_type": "code",
   "execution_count": null,
   "id": "7bbedbd1-a8c5-450f-9b21-cc13ae692723",
   "metadata": {},
   "outputs": [],
   "source": [
    "import numpy as np\n",
    "import pandas as pd\n",
    "import matplotlib.pyplot as plt\n",
    "from keras.optimizers import Adam\n",
    "from sklearn.metrics import r2_score\n",
    "from keras.initializers import HeUniform\n",
    "from tensorflow.keras.models import Sequential\n",
    "from sklearn.metrics import mean_absolute_error\n",
    "from sklearn.preprocessing import StandardScaler\n",
    "from tensorflow.keras.layers import Dense, Dropout, BatchNormalization\n",
    "%matplotlib inline"
   ]
  },
  {
   "cell_type": "markdown",
   "id": "9c1e5896-799a-47dc-af09-153d68205935",
   "metadata": {},
   "source": [
    "### Load csv file / read csv file"
   ]
  },
  {
   "cell_type": "code",
   "execution_count": null,
   "id": "6b70188d-4d80-4174-aea9-0d7fc65b5f3a",
   "metadata": {},
   "outputs": [],
   "source": [
    "Data_Frame = pd.read_csv('report.csv',delimiter=',')\n",
    "Data_Frame.head(10)"
   ]
  },
  {
   "cell_type": "markdown",
   "id": "8880fc89-f62a-4726-ac41-e3f915cf6fc4",
   "metadata": {},
   "source": [
    "### Select features"
   ]
  },
  {
   "cell_type": "code",
   "execution_count": null,
   "id": "4832dae1-b42f-439b-b48a-5cb0712f9d03",
   "metadata": {},
   "outputs": [],
   "source": [
    "Data_Frame_Features = Data_Frame[['CO','O3','NO2','SO2','PM10','PM2.5','AQI']]"
   ]
  },
  {
   "cell_type": "markdown",
   "id": "75a12434-1cc1-4627-bfe0-14dfb92fa19f",
   "metadata": {},
   "source": [
    "### Train & Test split"
   ]
  },
  {
   "cell_type": "code",
   "execution_count": null,
   "id": "41d18eb0-744c-41b7-8c0a-8fe6e39977a2",
   "metadata": {},
   "outputs": [],
   "source": [
    "mask = np.random.rand(len(Data_Frame)) < 0.8\n",
    "train = Data_Frame_Features[mask]\n",
    "test = Data_Frame_Features[~mask]"
   ]
  },
  {
   "cell_type": "markdown",
   "id": "e939b21d-2a99-4c70-b561-7f367fe88ebd",
   "metadata": {},
   "source": [
    "### Standard scaling"
   ]
  },
  {
   "cell_type": "code",
   "execution_count": null,
   "id": "a637cc37-9ffc-4a5b-b15b-483c71c971e7",
   "metadata": {},
   "outputs": [],
   "source": [
    "# Create your scaler model\n",
    "Data_Scaler = StandardScaler()\n",
    "\n",
    "# Convert x_train and x_test to numpy array\n",
    "x_train = np.asanyarray(train[['CO','O3','NO2','SO2','PM10','PM2.5']]) \n",
    "x_test = np.asanyarray(Data_Frame_Features[['CO','O3','NO2','SO2','PM10','PM2.5']])\n",
    "\n",
    "# Create your scaled x\n",
    "scaled_x_train = Data_Scaler.fit(x_train).transform(x_train)\n",
    "scaled_x_test = Data_Scaler.fit(x_test).transform(x_test)"
   ]
  },
  {
   "cell_type": "markdown",
   "id": "b063ba39-4218-40d4-837c-4cb7bf0f86c1",
   "metadata": {},
   "source": [
    "### Create model(neural network)"
   ]
  },
  {
   "cell_type": "code",
   "execution_count": null,
   "id": "49ab2149-ce29-4254-937e-548a446be413",
   "metadata": {},
   "outputs": [],
   "source": [
    "# Create you neural network model\n",
    "model = Sequential()\n",
    "model.add(Dense(1024,input_dim=scaled_x_train.shape[1],kernel_initializer=HeUniform(seed=0),activation='relu'))\n",
    "model.add(BatchNormalization())\n",
    "model.add(Dropout(0.2))\n",
    "model.add(Dense(512,kernel_initializer=HeUniform(seed=0) ,activation='selu'))\n",
    "model.add(BatchNormalization())\n",
    "model.add(Dropout(0.2))\n",
    "model.add(Dense(256,kernel_initializer=HeUniform(seed=0) ,activation='relu'))\n",
    "model.add(BatchNormalization())\n",
    "model.add(Dropout(0.2))\n",
    "model.add(Dense(128,kernel_initializer=HeUniform(seed=0), activation='selu'))\n",
    "model.add(BatchNormalization())\n",
    "model.add(Dropout(0.2))\n",
    "model.add(Dense(1,kernel_initializer=HeUniform(seed=0) ,activation='linear'))\n",
    "\n",
    "# Compile the model\n",
    "model.compile(loss='mean_squared_error', optimizer=Adam(learning_rate=0.001), metrics=['mae'])"
   ]
  },
  {
   "cell_type": "markdown",
   "id": "45801e0b-b866-4253-8650-55a6d31ef5d1",
   "metadata": {},
   "source": [
    "### Train model"
   ]
  },
  {
   "cell_type": "code",
   "execution_count": null,
   "id": "0e2564d9-cee6-4b07-bd1d-4bd41e2b193f",
   "metadata": {},
   "outputs": [],
   "source": [
    "# Convert y_train and y_test to numpy array\n",
    "y_train = np.asanyarray(train[['AQI']])\n",
    "y_test = np.asanyarray(Data_Frame_Features[['AQI']])\n",
    "\n",
    "# Train the model\n",
    "Result = model.fit(scaled_x_train,y_train,epochs=100,batch_size=64,validation_split=0.2,verbose=1)\n",
    "loss , mae = model.evaluate(scaled_x_test,y_test)\n",
    "print(f'Test Mean Absolute Error : {mae:.2f}')"
   ]
  },
  {
   "cell_type": "markdown",
   "id": "aee15998-a06c-495b-b6d3-758a97238794",
   "metadata": {},
   "source": [
    "### Prediction"
   ]
  },
  {
   "cell_type": "code",
   "execution_count": null,
   "id": "60a564f4-920b-4d27-876b-f7313e61f248",
   "metadata": {},
   "outputs": [],
   "source": [
    "# Predict with x_test\n",
    "y_hat = model.predict(scaled_x_test)\n",
    "print(y_hat)"
   ]
  },
  {
   "cell_type": "markdown",
   "id": "3c0e92d7-45bf-41ae-99f6-3aedd7df865b",
   "metadata": {},
   "source": [
    "### Prediction vs Reality(Plot y_hat vs y_test)"
   ]
  },
  {
   "cell_type": "code",
   "execution_count": null,
   "id": "d3ad7e87-d4ae-4273-844e-e1a19cddbc88",
   "metadata": {},
   "outputs": [],
   "source": [
    "figure , axs = plt.subplots(1,2,figsize=(12,4))\n",
    "axs[0].scatter(y_test, y_hat)\n",
    "axs[0].set_title('Real vs Predicted Values')\n",
    "axs[0].set_xlabel('Real Values')\n",
    "axs[0].set_ylabel('Predicted Values')\n",
    "\n",
    "# Calculate the r2_score and plot it\n",
    "r2 = r2_score(y_test, y_hat)\n",
    "axs[1].text(0.5, 0.5, 'R-Squared: %.2f' % r2, fontsize=20, ha='center')\n",
    "axs[1].set_title('R-Squared Value')\n",
    "plt.show()"
   ]
  },
  {
   "cell_type": "markdown",
   "id": "c683199c-501e-4b96-a5fd-c2a42a40e42e",
   "metadata": {},
   "source": [
    "### List of predicted values and real values"
   ]
  },
  {
   "cell_type": "code",
   "execution_count": null,
   "id": "91148dac-a346-45f8-86b2-587032cbf933",
   "metadata": {},
   "outputs": [],
   "source": [
    "# Create an empty list to store the pairs\n",
    "pairs = []\n",
    "\n",
    "# Loop through the test set\n",
    "for i in range(len(scaled_x_train)):\n",
    "    # Create a tuple containing the real and predicted values\n",
    "    pair = (y_test[i][0], y_hat[i][0])\n",
    "    # (y_test,y_hat)\n",
    "    \n",
    "    # Append the tuple to the list\n",
    "    pairs.append(pair)\n",
    "\n",
    "# Print the list\n",
    "for pair in pairs:\n",
    "    print(pair)"
   ]
  },
  {
   "cell_type": "markdown",
   "id": "0ee2b635-6396-4b0a-9845-cc724aa46b6c",
   "metadata": {},
   "source": [
    "### Plot MAE(mean absolute error)"
   ]
  },
  {
   "cell_type": "code",
   "execution_count": null,
   "id": "3a9f5832-cce0-4e2b-bdd5-cd45803c1c5a",
   "metadata": {},
   "outputs": [],
   "source": [
    "# Calculate the MAE for each pair of y_test and y_pred\n",
    "mae_values = [mean_absolute_error(y_test[i], y_hat[i]) for i in range(len(y_test))]\n",
    "\n",
    "# Define the range of x values for the plot\n",
    "x_values = range(1, len(mae_values) + 1)\n",
    "\n",
    "# Create a figure and an axis\n",
    "fig, ax = plt.subplots()\n",
    "\n",
    "# Plot the MAE values against the x values\n",
    "ax.plot(x_values, mae_values)\n",
    "\n",
    "# Set the x-axis label to 'Group' and the y-axis label to 'Mean Absolute Error'\n",
    "ax.set_xlabel('Group')\n",
    "ax.set_ylabel('Mean Absolute Error')\n",
    "\n",
    "# Show the plot\n",
    "plt.show()"
   ]
  },
  {
   "cell_type": "markdown",
   "id": "4846bdb5-dd6a-4e1c-bde0-626a9e211bf2",
   "metadata": {},
   "source": [
    "### This neural network has been writen by me , Mohammad Parsa Rezaifar(MPR)\n",
    "### This code is not great , so would be thankful if you develop it...\n",
    "### Thanks to my dear friend , teamate Mr.Ahmad Moghadam(AM) to guide me :) "
   ]
  }
 ],
 "metadata": {
  "kernelspec": {
   "display_name": "Python 3 (ipykernel)",
   "language": "python",
   "name": "python3"
  },
  "language_info": {
   "codemirror_mode": {
    "name": "ipython",
    "version": 3
   },
   "file_extension": ".py",
   "mimetype": "text/x-python",
   "name": "python",
   "nbconvert_exporter": "python",
   "pygments_lexer": "ipython3",
   "version": "3.11.4"
  }
 },
 "nbformat": 4,
 "nbformat_minor": 5
}
